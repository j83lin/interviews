{
 "cells": [
  {
   "cell_type": "markdown",
   "id": "7062ff38",
   "metadata": {},
   "source": [
    "### Task 2: TwoSum\n",
    "\n",
    "Given an array of integers `nums` and an integer `target`, write a function `two_sum(nums, target)` that returns indices of the two numbers in the array such that they add up to the target. You may assume that each input would have exactly one solution, and you may not use the same element twice.\n",
    "\n",
    "Examples:"
   ]
  },
  {
   "cell_type": "markdown",
   "id": "0812d7fc",
   "metadata": {},
   "source": [
    "```python\n",
    "two_sum([2, 7, 11, 15], 9)    # Output: [0, 1] because nums[0] + nums[1] = 2 + 7 = 9\n",
    "two_sum([3, 2, 4], 6)         # Output: [1, 2] because nums[1] + nums[2] = 2 + 4 = 6\n",
    "two_sum([3, 3], 6)            # Output: [0, 1] because nums[0] + nums[1] = 3 + 3 = 6\n",
    "```"
   ]
  },
  {
   "cell_type": "code",
   "execution_count": null,
   "id": "65c75847",
   "metadata": {},
   "outputs": [],
   "source": [
    "def two_sum(nums, target):\n",
    "    # Write your solution here\n",
    "    pass\n",
    "\n",
    "# Test cases\n",
    "print(two_sum([2, 7, 11, 15], 9))  # Should print: [0, 1]\n",
    "print(two_sum([3, 2, 4], 6))       # Should print: [1, 2]\n",
    "print(two_sum([3, 3], 6))          # Should print: [0, 1]"
   ]
  },
  {
   "cell_type": "markdown",
   "id": "1c22df37",
   "metadata": {},
   "source": [
    "### Skills tested\n",
    "\n",
    "1. Array/List Manipulation\n",
    "   - Accessing array elements by index\n",
    "   - Understanding array bounds\n",
    "\n",
    "2. Hash Table / Dictionary Usage\n",
    "   - Understanding key-value pair relationships\n",
    "   - Efficient lookup operations\n",
    "\n",
    "3. Problem-solving Approach\n",
    "   - Breaking down complex problems\n",
    "   - Converting requirements to code\n",
    "   - Understanding the two-pointer technique\n",
    "\n",
    "4. Algorithm Optimization\n",
    "   - Time complexity analysis (naive vs optimized solution)\n",
    "   - Space complexity trade-offs\n",
    "   - Understanding the benefits of hash tables vs nested loops\n",
    "\n",
    "5. Edge Case Handling\n",
    "   - Empty arrays\n",
    "   - No valid solution\n",
    "   - Duplicate numbers\n",
    "   - Negative numbers\n",
    "\n",
    "6. Python Fundamentals\n",
    "   - Function definition and parameters\n",
    "   - List operations\n",
    "   - Dictionary operations\n",
    "   - Return value formatting"
   ]
  }
 ],
 "metadata": {
  "kernelspec": {
   "display_name": "Python 3",
   "language": "python",
   "name": "python3"
  },
  "language_info": {
   "codemirror_mode": {
    "name": "ipython",
    "version": 3
   },
   "file_extension": ".py",
   "mimetype": "text/x-python",
   "name": "python",
   "nbconvert_exporter": "python",
   "pygments_lexer": "ipython3",
   "version": "3.11.9"
  }
 },
 "nbformat": 4,
 "nbformat_minor": 5
}
