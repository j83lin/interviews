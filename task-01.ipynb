{
 "cells": [
  {
   "cell_type": "markdown",
   "id": "7062ff38",
   "metadata": {},
   "source": [
    "### Task 1: Vowel Counter"
   ]
  },
  {
   "cell_type": "markdown",
   "id": "0812d7fc",
   "metadata": {},
   "source": [
    "Write a Python function count_vowels(s) that takes a string `s` and returns the number of vowels `(a, e, i, o, u)` in it. The function should be case-insensitive."
   ]
  },
  {
   "cell_type": "markdown",
   "id": "a33688ad",
   "metadata": {},
   "source": [
    "```python\n",
    "count_vowels(\"Hello World\")  # Output: 3\n",
    "count_vowels(\"PYTHON\")       # Output: 1"
   ]
  },
  {
   "cell_type": "markdown",
   "id": "1c22df37",
   "metadata": {},
   "source": [
    "### Skills tested\n",
    "\n",
    "- Basic function definition\n",
    "- Looping or comprehension\n",
    "- String methods (lower())\n",
    "- Use of conditionals or set membership"
   ]
  },
  {
   "cell_type": "code",
   "execution_count": 30,
   "id": "dd1a36a8",
   "metadata": {},
   "outputs": [],
   "source": [
    "def count_vowels(s): \n",
    "    num_vowels = 0\n",
    "    for letter in s: \n",
    "        if letter.lower() in ('a','e','i','o','u'):\n",
    "            print(letter, ' is a vowel')\n",
    "            num_vowels += 1\n",
    "    return num_vowels\n"
   ]
  },
  {
   "cell_type": "code",
   "execution_count": 31,
   "id": "6c773087",
   "metadata": {},
   "outputs": [
    {
     "name": "stdout",
     "output_type": "stream",
     "text": [
      "e  is a vowel\n",
      "o  is a vowel\n",
      "o  is a vowel\n"
     ]
    },
    {
     "data": {
      "text/plain": [
       "3"
      ]
     },
     "execution_count": 31,
     "metadata": {},
     "output_type": "execute_result"
    }
   ],
   "source": [
    "count_vowels('Hello World')"
   ]
  },
  {
   "cell_type": "code",
   "execution_count": 32,
   "id": "f6440a12",
   "metadata": {},
   "outputs": [
    {
     "name": "stdout",
     "output_type": "stream",
     "text": [
      "O  is a vowel\n"
     ]
    },
    {
     "data": {
      "text/plain": [
       "1"
      ]
     },
     "execution_count": 32,
     "metadata": {},
     "output_type": "execute_result"
    }
   ],
   "source": [
    "count_vowels('PYTHON')"
   ]
  },
  {
   "cell_type": "markdown",
   "id": "f2932e4d",
   "metadata": {},
   "source": []
  }
 ],
 "metadata": {
  "kernelspec": {
   "display_name": "Python 3",
   "language": "python",
   "name": "python3"
  },
  "language_info": {
   "codemirror_mode": {
    "name": "ipython",
    "version": 3
   },
   "file_extension": ".py",
   "mimetype": "text/x-python",
   "name": "python",
   "nbconvert_exporter": "python",
   "pygments_lexer": "ipython3",
   "version": "3.11.9"
  }
 },
 "nbformat": 4,
 "nbformat_minor": 5
}
